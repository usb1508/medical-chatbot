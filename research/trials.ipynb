{
 "cells": [
  {
   "cell_type": "code",
   "execution_count": 1,
   "id": "ef2a14bc",
   "metadata": {},
   "outputs": [
    {
     "name": "stderr",
     "output_type": "stream",
     "text": [
      "/Users/utkarsh/Blogs and Learning/medical-chatbot/.venv/lib/python3.12/site-packages/tqdm/auto.py:21: TqdmWarning: IProgress not found. Please update jupyter and ipywidgets. See https://ipywidgets.readthedocs.io/en/stable/user_install.html\n",
      "  from .autonotebook import tqdm as notebook_tqdm\n"
     ]
    }
   ],
   "source": [
    "from langchain.document_loaders import PyPDFLoader, DirectoryLoader\n",
    "from langchain.text_splitter import RecursiveCharacterTextSplitter\n"
   ]
  },
  {
   "cell_type": "code",
   "execution_count": 4,
   "id": "2f85fe17",
   "metadata": {},
   "outputs": [],
   "source": [
    "import os\n",
    "\n",
    "os.chdir(\"../\")  # Change directory to parent folder"
   ]
  },
  {
   "cell_type": "code",
   "execution_count": null,
   "id": "757fad52",
   "metadata": {},
   "outputs": [],
   "source": [
    "def load_pdf_files(data):\n",
    "    loader = DirectoryLoader(\n",
    "        data,\n",
    "        glob=\"*.pdf\",\n",
    "        loader_cls=PyPDFLoader\n",
    "    )\n",
    "    documents = loader.load()\n",
    "    return documents\n"
   ]
  },
  {
   "cell_type": "code",
   "execution_count": 5,
   "id": "b8f92afc",
   "metadata": {},
   "outputs": [],
   "source": [
    "extracted_docs = load_pdf_files(\"data\")"
   ]
  },
  {
   "cell_type": "code",
   "execution_count": 9,
   "id": "61cc533b",
   "metadata": {},
   "outputs": [],
   "source": [
    "from typing import List\n",
    "from langchain.schema import Document\n",
    "\n",
    "\n",
    "def filter_to_minimal_docs(docs: List[Document]) -> List[Document]:\n",
    "    \"\"\"Filter documents to only those with at least min_length characters.\"\"\"\n",
    "    \n",
    "    minimal_docs = []\n",
    "    for doc in docs:\n",
    "        src = doc.metadata.get(\"source\")\n",
    "        minimal_docs.append(\n",
    "            Document(page_content=doc.page_content, metadata={\"source\": src})\n",
    "        )\n",
    "    return minimal_docs"
   ]
  },
  {
   "cell_type": "code",
   "execution_count": 10,
   "id": "a73b331e",
   "metadata": {},
   "outputs": [],
   "source": [
    "minimal_docs = filter_to_minimal_docs(extracted_docs)"
   ]
  },
  {
   "cell_type": "code",
   "execution_count": null,
   "id": "0c0b6ea0",
   "metadata": {},
   "outputs": [],
   "source": [
    "minimal_docs"
   ]
  },
  {
   "cell_type": "code",
   "execution_count": 15,
   "id": "5dc84d81",
   "metadata": {},
   "outputs": [],
   "source": [
    "def text_split(minimal_docs):\n",
    "\ttext_splitter = RecursiveCharacterTextSplitter(\n",
    "\t\tchunk_size=500,\n",
    "\t\tchunk_overlap=20,\n",
    "\t\tlength_function=len\n",
    "\t)\n",
    "\ttext_chunks = text_splitter.split_documents(minimal_docs)\n",
    "\treturn text_chunks"
   ]
  },
  {
   "cell_type": "code",
   "execution_count": null,
   "id": "40a3c9a5",
   "metadata": {},
   "outputs": [],
   "source": []
  },
  {
   "cell_type": "code",
   "execution_count": 16,
   "id": "d7d3ab02",
   "metadata": {},
   "outputs": [
    {
     "data": {
      "text/plain": [
       "5859"
      ]
     },
     "execution_count": 16,
     "metadata": {},
     "output_type": "execute_result"
    }
   ],
   "source": [
    "text_cunks = text_split(minimal_docs)\n",
    "len(text_cunks)"
   ]
  },
  {
   "cell_type": "code",
   "execution_count": 18,
   "id": "c216e3b0",
   "metadata": {},
   "outputs": [
    {
     "name": "stderr",
     "output_type": "stream",
     "text": [
      "/var/folders/fn/y2v9ywxd04n7drmgkcd7bh400000gn/T/ipykernel_59561/3485375422.py:6: LangChainDeprecationWarning: The class `HuggingFaceBgeEmbeddings` was deprecated in LangChain 0.2.2 and will be removed in 1.0. An updated version of the class exists in the :class:`~langchain-huggingface package and should be used instead. To use it run `pip install -U :class:`~langchain-huggingface` and import as `from :class:`~langchain_huggingface import HuggingFaceEmbeddings``.\n",
      "  embeddings = HuggingFaceBgeEmbeddings(model_name=model_name)\n"
     ]
    }
   ],
   "source": [
    "from langchain.embeddings import HuggingFaceBgeEmbeddings\n",
    "\n",
    "\n",
    "def download_embeddings():\n",
    "\tmodel_name = \"sentence-transformers/all-MiniLM-L6-v2\"\n",
    "\tembeddings = HuggingFaceBgeEmbeddings(model_name=model_name)\n",
    "\treturn embeddings\n",
    "\n",
    "embeddings = download_embeddings()"
   ]
  },
  {
   "cell_type": "code",
   "execution_count": 19,
   "id": "f4db22ad",
   "metadata": {},
   "outputs": [
    {
     "data": {
      "text/plain": [
       "HuggingFaceBgeEmbeddings(client=SentenceTransformer(\n",
       "  (0): Transformer({'max_seq_length': 256, 'do_lower_case': False}) with Transformer model: BertModel \n",
       "  (1): Pooling({'word_embedding_dimension': 384, 'pooling_mode_cls_token': False, 'pooling_mode_mean_tokens': True, 'pooling_mode_max_tokens': False, 'pooling_mode_mean_sqrt_len_tokens': False, 'pooling_mode_weightedmean_tokens': False, 'pooling_mode_lasttoken': False, 'include_prompt': True})\n",
       "  (2): Normalize()\n",
       "), model_name='sentence-transformers/all-MiniLM-L6-v2', cache_folder=None, model_kwargs={}, encode_kwargs={}, query_instruction='Represent this question for searching relevant passages: ', embed_instruction='', show_progress=False)"
      ]
     },
     "execution_count": 19,
     "metadata": {},
     "output_type": "execute_result"
    }
   ],
   "source": [
    "embeddings"
   ]
  },
  {
   "cell_type": "code",
   "execution_count": 21,
   "id": "5868f99a",
   "metadata": {},
   "outputs": [
    {
     "data": {
      "text/plain": [
       "[-0.010300830006599426,\n",
       " 0.18307925760746002,\n",
       " 0.03081122227013111,\n",
       " 0.004452867433428764,\n",
       " -0.027336133643984795,\n",
       " -0.0335625559091568,\n",
       " 0.037631526589393616,\n",
       " -0.03157331794500351,\n",
       " -0.0033910172060132027,\n",
       " -0.008950826711952686,\n",
       " 0.03803616762161255,\n",
       " -0.051291026175022125,\n",
       " 0.0003682953247334808,\n",
       " -0.023727085441350937,\n",
       " 0.0927102193236351,\n",
       " -0.02779579535126686,\n",
       " -0.03515257313847542,\n",
       " -0.0032242247834801674,\n",
       " -0.07681785523891449,\n",
       " -0.057612113654613495,\n",
       " 0.07257593423128128,\n",
       " 0.11128546297550201,\n",
       " 0.016058500856161118,\n",
       " 0.015908459201455116,\n",
       " -0.0823269858956337,\n",
       " 0.007007301319390535,\n",
       " 0.0290131364017725,\n",
       " 0.0011387335835024714,\n",
       " 0.1167173832654953,\n",
       " -0.032327428460121155,\n",
       " -0.0322716049849987,\n",
       " -0.0012590617407113314,\n",
       " 0.10591619461774826,\n",
       " 0.023600803688168526,\n",
       " 0.009664924815297127,\n",
       " 0.09834086894989014,\n",
       " 0.042936380952596664,\n",
       " -0.019547685980796814,\n",
       " 0.01926787942647934,\n",
       " -0.06417101621627808,\n",
       " 0.02392350323498249,\n",
       " -0.052880022674798965,\n",
       " -0.02646952122449875,\n",
       " 0.00554878544062376,\n",
       " -0.017025142908096313,\n",
       " -0.030232645571231842,\n",
       " -0.09035328775644302,\n",
       " 0.05418829619884491,\n",
       " 0.03278322517871857,\n",
       " -0.03849182277917862,\n",
       " -0.16290956735610962,\n",
       " -0.05710041895508766,\n",
       " -0.06604955345392227,\n",
       " -0.014481781981885433,\n",
       " 0.049746155738830566,\n",
       " -0.010199310258030891,\n",
       " -0.06685124337673187,\n",
       " -0.0010846317745745182,\n",
       " 0.02830563671886921,\n",
       " -0.02152024768292904,\n",
       " -0.03531770408153534,\n",
       " 0.025931144133210182,\n",
       " -0.01971506141126156,\n",
       " 0.06278971582651138,\n",
       " 0.09176412969827652,\n",
       " -0.1022922471165657,\n",
       " 0.037035226821899414,\n",
       " 0.020544372498989105,\n",
       " -0.07321780174970627,\n",
       " -0.038438692688941956,\n",
       " -0.10208169370889664,\n",
       " -0.02137274667620659,\n",
       " -0.045009903609752655,\n",
       " -0.01880413480103016,\n",
       " -0.13577795028686523,\n",
       " -0.036784827709198,\n",
       " -0.03485993668437004,\n",
       " -0.03833594173192978,\n",
       " -0.016518941149115562,\n",
       " -0.03122938796877861,\n",
       " 0.06781856715679169,\n",
       " 0.0207373034209013,\n",
       " 0.011971925385296345,\n",
       " 0.07180450856685638,\n",
       " -0.004278054926544428,\n",
       " 0.024945491924881935,\n",
       " 0.016518954187631607,\n",
       " -0.06834033131599426,\n",
       " 0.04903171584010124,\n",
       " -0.006629330571740866,\n",
       " -0.07006295025348663,\n",
       " -0.09807820618152618,\n",
       " 0.038849495351314545,\n",
       " 0.011759786866605282,\n",
       " -0.010465743951499462,\n",
       " 0.05174499377608299,\n",
       " 0.0499441884458065,\n",
       " 0.021490447223186493,\n",
       " 0.022078178822994232,\n",
       " 0.1186029240489006,\n",
       " 0.08999448269605637,\n",
       " 0.03394389525055885,\n",
       " 0.08883445709943771,\n",
       " 0.022322453558444977,\n",
       " -0.022453980520367622,\n",
       " 0.011377044953405857,\n",
       " -0.10129459947347641,\n",
       " 0.06914234906435013,\n",
       " 0.014844323508441448,\n",
       " -0.048211321234703064,\n",
       " -0.09350985288619995,\n",
       " -0.05377849191427231,\n",
       " -0.03811460733413696,\n",
       " -0.10190239548683167,\n",
       " 0.04090222343802452,\n",
       " -0.06833647191524506,\n",
       " 0.0225068349391222,\n",
       " 0.015452038496732712,\n",
       " -0.020080387592315674,\n",
       " 0.03599824011325836,\n",
       " -0.024194836616516113,\n",
       " -0.008909263648092747,\n",
       " -0.007182006258517504,\n",
       " 0.03651844337582588,\n",
       " -0.03508393466472626,\n",
       " -0.017105208709836006,\n",
       " -0.020168771967291832,\n",
       " -2.284263601530071e-33,\n",
       " 0.09506470710039139,\n",
       " 0.006659856531769037,\n",
       " 0.02188519947230816,\n",
       " 0.09388482570648193,\n",
       " -0.03544972464442253,\n",
       " -0.0033221470657736063,\n",
       " -0.04450339078903198,\n",
       " 0.04256828501820564,\n",
       " 0.029856642708182335,\n",
       " -0.013110693544149399,\n",
       " 0.007181569933891296,\n",
       " 0.020307334139943123,\n",
       " 0.0015098141739144921,\n",
       " 0.02846386656165123,\n",
       " -0.05009440705180168,\n",
       " -0.03787592053413391,\n",
       " -0.06964094191789627,\n",
       " 0.01916501112282276,\n",
       " -0.06952053308486938,\n",
       " 0.07272631675004959,\n",
       " -0.014777946285903454,\n",
       " -0.015872659161686897,\n",
       " 0.0013891014968976378,\n",
       " 0.026439351961016655,\n",
       " 0.06056538224220276,\n",
       " 0.005688263103365898,\n",
       " 0.01108046155422926,\n",
       " -0.08853622525930405,\n",
       " 0.02512187510728836,\n",
       " 0.021633941680192947,\n",
       " 0.03881051391363144,\n",
       " -0.04513126611709595,\n",
       " -0.046191953122615814,\n",
       " -0.042806774377822876,\n",
       " 0.06965947896242142,\n",
       " 0.09090017527341843,\n",
       " -0.01369102206081152,\n",
       " -0.08157453685998917,\n",
       " -0.06711918860673904,\n",
       " -0.05557239428162575,\n",
       " -0.04676038399338722,\n",
       " 0.039633460342884064,\n",
       " 0.07059669494628906,\n",
       " 0.00581589387729764,\n",
       " 0.030686018988490105,\n",
       " 0.027975890785455704,\n",
       " -0.055435918271541595,\n",
       " 0.005270873196423054,\n",
       " -0.0005426992429420352,\n",
       " 0.08524656295776367,\n",
       " -0.020388586446642876,\n",
       " 0.07555048167705536,\n",
       " -0.09101551026105881,\n",
       " -0.02849802002310753,\n",
       " 0.05228208005428314,\n",
       " 0.04848278686404228,\n",
       " -0.028915302827954292,\n",
       " 0.06852050870656967,\n",
       " -0.04392695799469948,\n",
       " 0.07083986699581146,\n",
       " -0.009455111809074879,\n",
       " 0.008037181571125984,\n",
       " 0.04271790757775307,\n",
       " 0.052016593515872955,\n",
       " -0.03763124719262123,\n",
       " -0.019753534346818924,\n",
       " -0.026938598603010178,\n",
       " -0.022774606943130493,\n",
       " 0.0450562946498394,\n",
       " 0.002652168506756425,\n",
       " -0.03637443110346794,\n",
       " -0.0016245052684098482,\n",
       " -0.009545140899717808,\n",
       " 0.08428996056318283,\n",
       " -0.03316554054617882,\n",
       " -0.004807299003005028,\n",
       " 0.0055208937264978886,\n",
       " -0.043771207332611084,\n",
       " -0.0077548255212605,\n",
       " -0.06770292669534683,\n",
       " -0.006248059216886759,\n",
       " 0.008232828229665756,\n",
       " 0.02995241805911064,\n",
       " 0.05353197455406189,\n",
       " 0.07379394769668579,\n",
       " -0.07401299476623535,\n",
       " 0.04543815925717354,\n",
       " -0.12145267426967621,\n",
       " 0.006786958314478397,\n",
       " 0.02322910726070404,\n",
       " -0.02505345270037651,\n",
       " 0.07052101194858551,\n",
       " -0.002563576214015484,\n",
       " -0.10330284386873245,\n",
       " -0.061434660106897354,\n",
       " -4.5543271624255867e-35,\n",
       " 0.09373193979263306,\n",
       " 0.01652185618877411,\n",
       " -0.0512855090200901,\n",
       " -0.007563162595033646,\n",
       " -0.05882911756634712,\n",
       " -0.01072108093649149,\n",
       " -0.038854699581861496,\n",
       " 0.060022417455911636,\n",
       " 0.005357679445296526,\n",
       " 0.08408879488706589,\n",
       " -0.011622543446719646,\n",
       " 0.010504471138119698,\n",
       " 0.138909712433815,\n",
       " -0.013992725871503353,\n",
       " -0.07269319146871567,\n",
       " -0.04701690003275871,\n",
       " 0.10752872377634048,\n",
       " -0.0030043364968150854,\n",
       " 0.010074443183839321,\n",
       " 0.06560281664133072,\n",
       " 0.003994094207882881,\n",
       " 0.01095558051019907,\n",
       " -0.09632871299982071,\n",
       " -0.025182100012898445,\n",
       " 0.015337633900344372,\n",
       " 0.07056558132171631,\n",
       " 0.0848909541964531,\n",
       " -0.02567789889872074,\n",
       " -0.07766713201999664,\n",
       " 0.008598257787525654,\n",
       " 0.009575378149747849,\n",
       " 0.007218603976070881,\n",
       " -0.09409842640161514,\n",
       " 0.041470956057310104,\n",
       " -0.045654959976673126,\n",
       " -0.007441831286996603,\n",
       " 0.014582652598619461,\n",
       " 0.006933548953384161,\n",
       " 0.0029330034740269184,\n",
       " -0.052067697048187256,\n",
       " 0.002741120755672455,\n",
       " 0.021477915346622467,\n",
       " 0.011189473792910576,\n",
       " 0.06323135644197464,\n",
       " -0.08215918391942978,\n",
       " -0.005953966174274683,\n",
       " -0.026612289249897003,\n",
       " 0.06312450021505356,\n",
       " -0.009564953856170177,\n",
       " -0.028025981038808823,\n",
       " -0.03727741166949272,\n",
       " -0.03191068395972252,\n",
       " 0.04313582181930542,\n",
       " -0.08780162781476974,\n",
       " -0.05951863154768944,\n",
       " -0.022807970643043518,\n",
       " -0.06337305158376694,\n",
       " -0.04372803121805191,\n",
       " 0.026400696486234665,\n",
       " -0.03103051148355007,\n",
       " 0.00485475966706872,\n",
       " 0.03686673939228058,\n",
       " 0.0022788881324231625,\n",
       " 0.055584948509931564,\n",
       " 0.022131621837615967,\n",
       " -0.07549654692411423,\n",
       " 0.009231186471879482,\n",
       " 0.07583919912576675,\n",
       " 0.02118178829550743,\n",
       " -0.08696746826171875,\n",
       " -0.009340778924524784,\n",
       " -0.07346438616514206,\n",
       " -0.04060378298163414,\n",
       " -0.01628083921968937,\n",
       " -0.014284410513937473,\n",
       " 0.053436219692230225,\n",
       " 0.03642677143216133,\n",
       " -0.06934576481580734,\n",
       " -0.026062846183776855,\n",
       " 0.04452914372086525,\n",
       " 0.03905073553323746,\n",
       " 0.0022511400748044252,\n",
       " -0.05344931036233902,\n",
       " 0.01961677335202694,\n",
       " 0.032974664121866226,\n",
       " -0.017909789457917213,\n",
       " -0.004217399284243584,\n",
       " 0.05406983196735382,\n",
       " 0.025197891518473625,\n",
       " 0.023361608386039734,\n",
       " -0.04513724893331528,\n",
       " 0.015319844707846642,\n",
       " -0.060902178287506104,\n",
       " -0.010311370715498924,\n",
       " 0.005022961646318436,\n",
       " -2.2991844872422007e-08,\n",
       " -0.0741911232471466,\n",
       " 0.02353016845881939,\n",
       " -0.03804842010140419,\n",
       " 0.03680151328444481,\n",
       " 0.036406490951776505,\n",
       " 0.03847777098417282,\n",
       " 0.05947577580809593,\n",
       " -0.03988250717520714,\n",
       " -0.0797484815120697,\n",
       " 0.025002416223287582,\n",
       " 0.03533365949988365,\n",
       " 0.08019211888313293,\n",
       " -0.058206792920827866,\n",
       " -0.0240356232970953,\n",
       " 0.06849481910467148,\n",
       " 0.06681934744119644,\n",
       " -0.008757541887462139,\n",
       " -0.06276895105838776,\n",
       " -0.06686684489250183,\n",
       " 0.0013597507495433092,\n",
       " 0.07438524812459946,\n",
       " 0.06266898661851883,\n",
       " -0.02204916439950466,\n",
       " 0.015178666450083256,\n",
       " -0.04246605932712555,\n",
       " 0.043715525418519974,\n",
       " -0.002968381391838193,\n",
       " 0.03230775520205498,\n",
       " -0.07244178652763367,\n",
       " -0.008453192189335823,\n",
       " 0.024777526035904884,\n",
       " 0.10374248772859573,\n",
       " -0.0886213481426239,\n",
       " 0.00780547596514225,\n",
       " -0.04052727669477463,\n",
       " 0.004687688313424587,\n",
       " -0.08092759549617767,\n",
       " 0.001834074268117547,\n",
       " 0.050583966076374054,\n",
       " -0.05548537150025368,\n",
       " 0.006174121517688036,\n",
       " 0.08420968800783157,\n",
       " 0.011475929990410805,\n",
       " -0.0007285894243977964,\n",
       " 0.03322439268231392,\n",
       " 0.015147880651056767,\n",
       " 0.015199843794107437,\n",
       " 0.009150374680757523,\n",
       " -0.04391651973128319,\n",
       " -0.05456812307238579,\n",
       " -0.08241602778434753,\n",
       " -0.0029428773559629917,\n",
       " 0.059404660016298294,\n",
       " -0.0029331010300666094,\n",
       " 0.022356072440743446,\n",
       " 0.05346652492880821,\n",
       " 0.024953115731477737,\n",
       " 0.05151017755270004,\n",
       " -0.01908126100897789,\n",
       " 0.02093019336462021,\n",
       " 0.15390366315841675,\n",
       " 0.039949920028448105,\n",
       " 0.02757185511291027,\n",
       " -0.027968158945441246]"
      ]
     },
     "execution_count": 21,
     "metadata": {},
     "output_type": "execute_result"
    }
   ],
   "source": [
    "vector = embeddings.embed_query(\"Hello world\")\n",
    "vector"
   ]
  },
  {
   "cell_type": "code",
   "execution_count": 22,
   "id": "124d89bf",
   "metadata": {},
   "outputs": [
    {
     "data": {
      "text/plain": [
       "384"
      ]
     },
     "execution_count": 22,
     "metadata": {},
     "output_type": "execute_result"
    }
   ],
   "source": [
    "len(vector)"
   ]
  },
  {
   "cell_type": "code",
   "execution_count": 27,
   "id": "64ef2c6c",
   "metadata": {},
   "outputs": [
    {
     "data": {
      "text/plain": [
       "True"
      ]
     },
     "execution_count": 27,
     "metadata": {},
     "output_type": "execute_result"
    }
   ],
   "source": [
    "from dotenv import load_dotenv\n",
    "import os\n",
    "load_dotenv()  # take environment variables from .env."
   ]
  },
  {
   "cell_type": "code",
   "execution_count": 24,
   "id": "ee33b1f1",
   "metadata": {},
   "outputs": [
    {
     "data": {
      "text/plain": [
       "'/Users/utkarsh/Blogs and Learning/medical-chatbot'"
      ]
     },
     "execution_count": 24,
     "metadata": {},
     "output_type": "execute_result"
    }
   ],
   "source": []
  },
  {
   "cell_type": "code",
   "execution_count": 61,
   "id": "29cb742e",
   "metadata": {},
   "outputs": [],
   "source": [
    "PINECONE_API_KEY=os.environ.get(\"PINECONE_API_KEY\")\n",
    "OPENAI_API_KEY=os.environ.get(\"OPENAI_API_KEY\")\n",
    "OPEN_AI_MODEL=os.environ.get(\"OPENAI_MODEL\")\n"
   ]
  },
  {
   "cell_type": "code",
   "execution_count": 63,
   "id": "544e0def",
   "metadata": {},
   "outputs": [
    {
     "data": {
      "text/plain": [
       "'pcsk_ffucx_MXpkAQPqjo1FrVT7jmU9bwtTmQk3351Vh3vD9LodxgeNUm7zU3wvuZfAMkxKMsB'"
      ]
     },
     "execution_count": 63,
     "metadata": {},
     "output_type": "execute_result"
    }
   ],
   "source": [
    "PINECONE_API_KEY"
   ]
  },
  {
   "cell_type": "code",
   "execution_count": 62,
   "id": "b877d984",
   "metadata": {},
   "outputs": [],
   "source": [
    "\n",
    "os.environ[\"PINECONE_API_KEY\"] = PINECONE_API_KEY\n",
    "os.environ[\"OPENAI_API_KEY\"] = OPENAI_API_KEY\n",
    "os.environ[\"OPENAI_MODEL\"] = OPEN_AI_MODEL"
   ]
  },
  {
   "cell_type": "code",
   "execution_count": 31,
   "id": "9be437fd",
   "metadata": {},
   "outputs": [],
   "source": [
    "from pinecone import Pinecone\n",
    "pinecone_api_key = PINECONE_API_KEY\n",
    "pc = Pinecone(api_key=pinecone_api_key)"
   ]
  },
  {
   "cell_type": "code",
   "execution_count": 32,
   "id": "ead2f832",
   "metadata": {},
   "outputs": [
    {
     "data": {
      "text/plain": [
       "<pinecone.pinecone.Pinecone at 0x1153edfa0>"
      ]
     },
     "execution_count": 32,
     "metadata": {},
     "output_type": "execute_result"
    }
   ],
   "source": [
    "pc"
   ]
  },
  {
   "cell_type": "code",
   "execution_count": null,
   "id": "132ea942",
   "metadata": {},
   "outputs": [],
   "source": []
  },
  {
   "cell_type": "markdown",
   "id": "0ab241ff",
   "metadata": {},
   "source": []
  },
  {
   "cell_type": "code",
   "execution_count": null,
   "id": "4d096406",
   "metadata": {},
   "outputs": [],
   "source": [
    "from pinecone import ServerlessSpec\n",
    "index_name = \"medical-chatbot\"\n",
    "\n",
    "if not pc.has_index(index_name):\n",
    "\tpc.create_index(\n",
    "\t\tname=index_name,\n",
    "\t\tdimension=384,\n",
    "\t\tmetric=\"cosine\",\n",
    "\t\tspec=ServerlessSpec(cloud='aws', region='us-east-1')\n",
    "\t)\n",
    "\n",
    "index = pc.Index(index_name)"
   ]
  },
  {
   "cell_type": "code",
   "execution_count": 40,
   "id": "df0e7e82",
   "metadata": {},
   "outputs": [],
   "source": [
    "from langchain_pinecone import PineconeVectorStore\n",
    "\n",
    "docsearch = PineconeVectorStore.from_documents(\n",
    "\tdocuments=text_cunks,\n",
    "\tembedding=embeddings,\n",
    "\tindex_name=index_name,\n",
    ")\n"
   ]
  },
  {
   "cell_type": "code",
   "execution_count": null,
   "id": "294a0665",
   "metadata": {},
   "outputs": [],
   "source": [
    "from  langchain_pinecone import PineconeVectorStore\n",
    "\n",
    "docsearch = PineconeVectorStore.from_existing_index(\n",
    "\tembedding=embeddings,\n",
    "\tindex_name=index_name,\n",
    ")\t"
   ]
  },
  {
   "cell_type": "markdown",
   "id": "1f38dff7",
   "metadata": {},
   "source": [
    "# Adding more docuemtts"
   ]
  },
  {
   "cell_type": "code",
   "execution_count": 41,
   "id": "f3e0034f",
   "metadata": {},
   "outputs": [],
   "source": [
    "dswith = Document(\n",
    "\tpage_content=\"This is a test document\", metadata={\"source\": \"test.pdf\"}\n",
    ")"
   ]
  },
  {
   "cell_type": "code",
   "execution_count": 42,
   "id": "3dcdc715",
   "metadata": {},
   "outputs": [
    {
     "data": {
      "text/plain": [
       "['a268a436-344b-474c-9c68-2966e66f1888']"
      ]
     },
     "execution_count": 42,
     "metadata": {},
     "output_type": "execute_result"
    }
   ],
   "source": [
    "docsearch.add_documents(documents=[dswith])"
   ]
  },
  {
   "cell_type": "code",
   "execution_count": 43,
   "id": "3dd61ea4",
   "metadata": {},
   "outputs": [],
   "source": [
    "retriever = docsearch.as_retriever(search_type=\"similarity\", search_kwargs={\"k\":3})"
   ]
  },
  {
   "cell_type": "code",
   "execution_count": 45,
   "id": "de4363dd",
   "metadata": {},
   "outputs": [
    {
     "data": {
      "text/plain": [
       "[Document(id='ae4dde5b-40b1-4989-b36b-32faa77599ff', metadata={'source': 'data/Medical_book.pdf'}, page_content='sue which serves as a base on which bone is built.\\nForamen magnum—The opening at the base of the\\nskull, through which the spinal cord and the brain-\\nstem pass.\\nHydrocephalus —An abnormal accumulation of\\nfluid within the brain. This accumulation can be\\ndestructive by pressing on brain structures, and\\ndamaging them.\\nMutation—A new, permanent change in the struc-\\nture of a gene, which can result in abnormal struc-\\nture or function somewhere in the body.'),\n",
       " Document(id='35e95742-e0a6-4c51-8430-52c578bafec3', metadata={'source': 'data/Medical_book.pdf'}, page_content='Adult_brain_tumor_Patient.html (May 2001).\\nBrain Tumor, Primary. Nidus Information Services,Well Con-\\nnected,2001.\\n“Brain Tumors,” Goldman: Cecil Textbook of Medicine, 21st\\nEd., Copyright (c) 2000 W. B. Saunders Company\\n“Brain Tumors,” Abeloff: Clinical Oncology, 2nd Ed., Copy-\\nright (c) 2000 Churchill Livingstone, Inc.\\nChildhood Brain Tumor. <http://cancernet.nci.nih.gov/clinpdq/\\npif/Childhood_brain_tumor_Patient.html (May 2001).\\nA Primer on Brain Tumors. <http://neurosurgery.mgh.harvard.'),\n",
       " Document(id='5ca257e1-1d37-4b8b-b46d-30697e2a7124', metadata={'source': 'data/Medical_book.pdf'}, page_content='KEY TERMS\\nBiopsy—The removal of a tissue sample for exami-\\nnation.\\nAspiration—Removal of fluid from a closed space\\nthrough a needle.\\nResources\\nBOOKS\\nHarrison’s Principles of Internal Medicine.Ed. Anthony S.\\nFauci, et al. New York: McGraw-Hill, 1997.\\nRolak, Loren A. “Brain and Spinal Abscesses.” In Office Prac-\\ntice of Neurology, Ed. Martin Samuels and Steven Feske.\\nNew York: Churchill Livingstone, 1996.\\nWispelwey, Brian, and Carole A. Sable. “Intracranial Suppura-')]"
      ]
     },
     "execution_count": 45,
     "metadata": {},
     "output_type": "execute_result"
    }
   ],
   "source": [
    "retrieved_docs = retriever.invoke(\"What is Hyderocephalus\")\n",
    "retrieved_docs"
   ]
  },
  {
   "cell_type": "code",
   "execution_count": 49,
   "id": "adc23bee",
   "metadata": {},
   "outputs": [],
   "source": [
    "\n",
    "from langchain_openai import ChatOpenAI\n",
    "\n",
    "chatmodel = ChatOpenAI(model_name=OPEN_AI_MODEL, temperature=0)"
   ]
  },
  {
   "cell_type": "code",
   "execution_count": 50,
   "id": "2366eb63",
   "metadata": {},
   "outputs": [],
   "source": [
    "from langchain.chains import create_retrieval_chain\n",
    "from langchain.chains.combine_documents import create_stuff_documents_chain\n",
    "from langchain_core.prompts import ChatPromptTemplate"
   ]
  },
  {
   "cell_type": "code",
   "execution_count": 57,
   "id": "77248d4b",
   "metadata": {},
   "outputs": [],
   "source": [
    "system_prompt = (\n",
    "    \"You are an Medical assistant for question-answering tasks. \"\n",
    "    \"Use the following pieces of retrieved context to answer \"\n",
    "    \"the question. If you don't know the answer, say that you \"\n",
    "    \"don't know. Use three sentences maximum and keep the \"\n",
    "    \"answer concise.\"\n",
    "    \"\\n\\n\"\n",
    "    \"{context}\"\n",
    ")\n",
    "\n",
    "prompt = ChatPromptTemplate.from_messages(\n",
    "\t[\n",
    "\t\t(\"system\", system_prompt),\n",
    "\t\t(\"user\", \"Answer the question: {input}\"),\n",
    "\t]\n",
    ")"
   ]
  },
  {
   "cell_type": "code",
   "execution_count": 58,
   "id": "b79b5ef4",
   "metadata": {},
   "outputs": [],
   "source": [
    "question_answer_chain = create_stuff_documents_chain(chatmodel,prompt=prompt)\n",
    "rag_chain = create_retrieval_chain(retriever, question_answer_chain)\n"
   ]
  },
  {
   "cell_type": "code",
   "execution_count": 59,
   "id": "767e908f",
   "metadata": {},
   "outputs": [
    {
     "name": "stdout",
     "output_type": "stream",
     "text": [
      "Hydrocephalus is an abnormal accumulation of fluid within the brain. This fluid accumulation can be destructive by pressing on brain structures and damaging them. It can lead to swelling of the brain.\n"
     ]
    }
   ],
   "source": [
    "response = rag_chain.invoke({\"input\": \"What is Hydrocephalus\"})\n",
    "print(response[\"answer\"])"
   ]
  },
  {
   "cell_type": "code",
   "execution_count": 60,
   "id": "575c95bf",
   "metadata": {},
   "outputs": [
    {
     "name": "stdout",
     "output_type": "stream",
     "text": [
      "Thrombosis is a blockage in a blood vessel that remains in one place, potentially leading to decreased blood flow and oxygen supply to tissues beyond the blockage. It can be caused by a blood clot, fat cells, or an air bubble in an artery. Thrombosis can result in serious damage to tissues due to the lack of normal blood flow and oxygen supply.\n"
     ]
    }
   ],
   "source": [
    "response = rag_chain.invoke({\"input\": \"What is Thrombosis\"})\n",
    "print(response[\"answer\"])"
   ]
  }
 ],
 "metadata": {
  "kernelspec": {
   "display_name": "medical-chatbot (3.12.11)",
   "language": "python",
   "name": "python3"
  },
  "language_info": {
   "codemirror_mode": {
    "name": "ipython",
    "version": 3
   },
   "file_extension": ".py",
   "mimetype": "text/x-python",
   "name": "python",
   "nbconvert_exporter": "python",
   "pygments_lexer": "ipython3",
   "version": "3.12.11"
  }
 },
 "nbformat": 4,
 "nbformat_minor": 5
}
